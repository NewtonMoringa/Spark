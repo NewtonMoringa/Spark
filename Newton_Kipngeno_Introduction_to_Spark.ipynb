{
  "nbformat": 4,
  "nbformat_minor": 0,
  "metadata": {
    "colab": {
      "provenance": [],
      "toc_visible": true
    },
    "kernelspec": {
      "name": "python3",
      "display_name": "Python 3"
    },
    "language_info": {
      "name": "python"
    }
  },
  "cells": [
    {
      "cell_type": "markdown",
      "source": [
        "# Data Importation and exploration"
      ],
      "metadata": {
        "id": "_wPMoqtLhbNA"
      }
    },
    {
      "cell_type": "code",
      "execution_count": 1,
      "metadata": {
        "colab": {
          "base_uri": "https://localhost:8080/"
        },
        "id": "3dGJdtrUhV_0",
        "outputId": "74123713-174c-4e9d-d1c8-55216a359e58"
      },
      "outputs": [
        {
          "output_type": "stream",
          "name": "stdout",
          "text": [
            "Looking in indexes: https://pypi.org/simple, https://us-python.pkg.dev/colab-wheels/public/simple/\n",
            "Collecting pyspark\n",
            "  Downloading pyspark-3.3.1.tar.gz (281.4 MB)\n",
            "\u001b[2K     \u001b[90m━━━━━━━━━━━━━━━━━━━━━━━━━━━━━━━━━━━━━━━\u001b[0m \u001b[32m281.4/281.4 MB\u001b[0m \u001b[31m4.1 MB/s\u001b[0m eta \u001b[36m0:00:00\u001b[0m\n",
            "\u001b[?25h  Preparing metadata (setup.py) ... \u001b[?25l\u001b[?25hdone\n",
            "Collecting py4j==0.10.9.5\n",
            "  Downloading py4j-0.10.9.5-py2.py3-none-any.whl (199 kB)\n",
            "\u001b[2K     \u001b[90m━━━━━━━━━━━━━━━━━━━━━━━━━━━━━━━━━━━━━━\u001b[0m \u001b[32m199.7/199.7 KB\u001b[0m \u001b[31m16.9 MB/s\u001b[0m eta \u001b[36m0:00:00\u001b[0m\n",
            "\u001b[?25hBuilding wheels for collected packages: pyspark\n",
            "  Building wheel for pyspark (setup.py) ... \u001b[?25l\u001b[?25hdone\n",
            "  Created wheel for pyspark: filename=pyspark-3.3.1-py2.py3-none-any.whl size=281845512 sha256=ac1c1942f0e33d9871e0291f7aa1cddf192adaee2d150756be7f89aa62bb1bd6\n",
            "  Stored in directory: /root/.cache/pip/wheels/43/dc/11/ec201cd671da62fa9c5cc77078235e40722170ceba231d7598\n",
            "Successfully built pyspark\n",
            "Installing collected packages: py4j, pyspark\n",
            "Successfully installed py4j-0.10.9.5 pyspark-3.3.1\n"
          ]
        }
      ],
      "source": [
        "# Install pyspark\n",
        "# ---\n",
        "#\n",
        "!pip install pyspark"
      ]
    },
    {
      "cell_type": "code",
      "source": [
        "# run local pyspark session\n",
        "#\n",
        "from pyspark.sql import SparkSession, SQLContext\n",
        "from pyspark.sql.functions import udf,col\n",
        "import pandas as pd\n",
        "spark = SparkSession.builder.master(\"local[*]\").getOrCreate()\n",
        "sc = spark.sparkContext\n",
        "sqlCtx = SQLContext(sc)"
      ],
      "metadata": {
        "colab": {
          "base_uri": "https://localhost:8080/"
        },
        "id": "jeB46roshv23",
        "outputId": "46984a8d-7619-41ca-fd9b-6d8c1a02c3db"
      },
      "execution_count": 27,
      "outputs": [
        {
          "output_type": "stream",
          "name": "stderr",
          "text": [
            "/usr/local/lib/python3.8/dist-packages/pyspark/sql/context.py:112: FutureWarning: Deprecated in 3.0.0. Use SparkSession.builder.getOrCreate() instead.\n",
            "  warnings.warn(\n"
          ]
        }
      ]
    },
    {
      "cell_type": "code",
      "source": [
        "# Load data without headers\n",
        "# \n",
        "df = sqlCtx.read.option(\"header\",\"true\").csv(\"saf_stock.csv\")\n",
        "df.show(5, False)"
      ],
      "metadata": {
        "colab": {
          "base_uri": "https://localhost:8080/"
        },
        "id": "s4TOrSFgiMdo",
        "outputId": "a379e7e3-d7d2-4b13-ff1b-827d5dcfbeff"
      },
      "execution_count": 28,
      "outputs": [
        {
          "output_type": "stream",
          "name": "stdout",
          "text": [
            "+----------+------------------+---------+---------+------------------+--------+------------------+\n",
            "|Date      |Open              |High     |Low      |Close             |Volume  |Adj Close         |\n",
            "+----------+------------------+---------+---------+------------------+--------+------------------+\n",
            "|2012-01-03|59.970001         |61.060001|59.869999|60.330002         |12668800|52.619234999999996|\n",
            "|2012-01-04|60.209998999999996|60.349998|59.470001|59.709998999999996|9593300 |52.078475         |\n",
            "|2012-01-05|59.349998         |59.619999|58.369999|59.419998         |12768200|51.825539         |\n",
            "|2012-01-06|59.419998         |59.450001|58.869999|59.0              |8069400 |51.45922          |\n",
            "|2012-01-09|59.029999         |59.549999|58.919998|59.18             |6679300 |51.616215000000004|\n",
            "+----------+------------------+---------+---------+------------------+--------+------------------+\n",
            "only showing top 5 rows\n",
            "\n"
          ]
        }
      ]
    },
    {
      "cell_type": "code",
      "source": [
        "# Show schema\n",
        "df.printSchema()"
      ],
      "metadata": {
        "colab": {
          "base_uri": "https://localhost:8080/"
        },
        "id": "5hzb44gjPE46",
        "outputId": "e4d6b2b3-445b-44d8-c5f1-fe1ccec81078"
      },
      "execution_count": 29,
      "outputs": [
        {
          "output_type": "stream",
          "name": "stdout",
          "text": [
            "root\n",
            " |-- Date: string (nullable = true)\n",
            " |-- Open: string (nullable = true)\n",
            " |-- High: string (nullable = true)\n",
            " |-- Low: string (nullable = true)\n",
            " |-- Close: string (nullable = true)\n",
            " |-- Volume: string (nullable = true)\n",
            " |-- Adj Close: string (nullable = true)\n",
            "\n"
          ]
        }
      ]
    },
    {
      "cell_type": "code",
      "source": [
        "#Describe the dataframe\n",
        "df.describe()\n"
      ],
      "metadata": {
        "colab": {
          "base_uri": "https://localhost:8080/"
        },
        "id": "U294Lh7sjbbU",
        "outputId": "b51a69d4-e1ff-4b1f-ae4c-69cb7b17d9ff"
      },
      "execution_count": 30,
      "outputs": [
        {
          "output_type": "execute_result",
          "data": {
            "text/plain": [
              "DataFrame[summary: string, Date: string, Open: string, High: string, Low: string, Close: string, Volume: string, Adj Close: string]"
            ]
          },
          "metadata": {},
          "execution_count": 30
        }
      ]
    },
    {
      "cell_type": "markdown",
      "source": [
        "# Data Preparation"
      ],
      "metadata": {
        "id": "Xb0DPqL4Pulj"
      }
    },
    {
      "cell_type": "code",
      "source": [
        "# Format all the data to 2 decimal places i.e. format_number()\n",
        "# Columns to be formated: Open, High, Low, Close, Adj Close\n",
        "from pyspark.sql.types import *\n",
        "# function\n",
        "def format_number(vals):\n",
        "  # get substring with only 2 digits after period\n",
        "  # print(new_str)\n",
        "  return '%.2f' % float(vals)\n",
        "\n",
        "# udf_format_number = udf(lambda x:format_number(x), FloatType())\n",
        "# df.withColumn(\"Open\",udf_format_number(col(\"Open\")))\n",
        "\n",
        "# Convert to pandas\n",
        "pandas_df = df.toPandas()\n",
        "pandas_df.head()"
      ],
      "metadata": {
        "colab": {
          "base_uri": "https://localhost:8080/",
          "height": 206
        },
        "id": "FcdK0rUOP1Qg",
        "outputId": "c01c139a-c392-4104-dd84-037097c75228"
      },
      "execution_count": 40,
      "outputs": [
        {
          "output_type": "execute_result",
          "data": {
            "text/plain": [
              "         Date                Open       High        Low               Close  \\\n",
              "0  2012-01-03           59.970001  61.060001  59.869999           60.330002   \n",
              "1  2012-01-04  60.209998999999996  60.349998  59.470001  59.709998999999996   \n",
              "2  2012-01-05           59.349998  59.619999  58.369999           59.419998   \n",
              "3  2012-01-06           59.419998  59.450001  58.869999                59.0   \n",
              "4  2012-01-09           59.029999  59.549999  58.919998               59.18   \n",
              "\n",
              "     Volume           Adj Close  \n",
              "0  12668800  52.619234999999996  \n",
              "1   9593300           52.078475  \n",
              "2  12768200           51.825539  \n",
              "3   8069400            51.45922  \n",
              "4   6679300  51.616215000000004  "
            ],
            "text/html": [
              "\n",
              "  <div id=\"df-d69ad1d0-b980-4eda-8c4e-41aaeac4f925\">\n",
              "    <div class=\"colab-df-container\">\n",
              "      <div>\n",
              "<style scoped>\n",
              "    .dataframe tbody tr th:only-of-type {\n",
              "        vertical-align: middle;\n",
              "    }\n",
              "\n",
              "    .dataframe tbody tr th {\n",
              "        vertical-align: top;\n",
              "    }\n",
              "\n",
              "    .dataframe thead th {\n",
              "        text-align: right;\n",
              "    }\n",
              "</style>\n",
              "<table border=\"1\" class=\"dataframe\">\n",
              "  <thead>\n",
              "    <tr style=\"text-align: right;\">\n",
              "      <th></th>\n",
              "      <th>Date</th>\n",
              "      <th>Open</th>\n",
              "      <th>High</th>\n",
              "      <th>Low</th>\n",
              "      <th>Close</th>\n",
              "      <th>Volume</th>\n",
              "      <th>Adj Close</th>\n",
              "    </tr>\n",
              "  </thead>\n",
              "  <tbody>\n",
              "    <tr>\n",
              "      <th>0</th>\n",
              "      <td>2012-01-03</td>\n",
              "      <td>59.970001</td>\n",
              "      <td>61.060001</td>\n",
              "      <td>59.869999</td>\n",
              "      <td>60.330002</td>\n",
              "      <td>12668800</td>\n",
              "      <td>52.619234999999996</td>\n",
              "    </tr>\n",
              "    <tr>\n",
              "      <th>1</th>\n",
              "      <td>2012-01-04</td>\n",
              "      <td>60.209998999999996</td>\n",
              "      <td>60.349998</td>\n",
              "      <td>59.470001</td>\n",
              "      <td>59.709998999999996</td>\n",
              "      <td>9593300</td>\n",
              "      <td>52.078475</td>\n",
              "    </tr>\n",
              "    <tr>\n",
              "      <th>2</th>\n",
              "      <td>2012-01-05</td>\n",
              "      <td>59.349998</td>\n",
              "      <td>59.619999</td>\n",
              "      <td>58.369999</td>\n",
              "      <td>59.419998</td>\n",
              "      <td>12768200</td>\n",
              "      <td>51.825539</td>\n",
              "    </tr>\n",
              "    <tr>\n",
              "      <th>3</th>\n",
              "      <td>2012-01-06</td>\n",
              "      <td>59.419998</td>\n",
              "      <td>59.450001</td>\n",
              "      <td>58.869999</td>\n",
              "      <td>59.0</td>\n",
              "      <td>8069400</td>\n",
              "      <td>51.45922</td>\n",
              "    </tr>\n",
              "    <tr>\n",
              "      <th>4</th>\n",
              "      <td>2012-01-09</td>\n",
              "      <td>59.029999</td>\n",
              "      <td>59.549999</td>\n",
              "      <td>58.919998</td>\n",
              "      <td>59.18</td>\n",
              "      <td>6679300</td>\n",
              "      <td>51.616215000000004</td>\n",
              "    </tr>\n",
              "  </tbody>\n",
              "</table>\n",
              "</div>\n",
              "      <button class=\"colab-df-convert\" onclick=\"convertToInteractive('df-d69ad1d0-b980-4eda-8c4e-41aaeac4f925')\"\n",
              "              title=\"Convert this dataframe to an interactive table.\"\n",
              "              style=\"display:none;\">\n",
              "        \n",
              "  <svg xmlns=\"http://www.w3.org/2000/svg\" height=\"24px\"viewBox=\"0 0 24 24\"\n",
              "       width=\"24px\">\n",
              "    <path d=\"M0 0h24v24H0V0z\" fill=\"none\"/>\n",
              "    <path d=\"M18.56 5.44l.94 2.06.94-2.06 2.06-.94-2.06-.94-.94-2.06-.94 2.06-2.06.94zm-11 1L8.5 8.5l.94-2.06 2.06-.94-2.06-.94L8.5 2.5l-.94 2.06-2.06.94zm10 10l.94 2.06.94-2.06 2.06-.94-2.06-.94-.94-2.06-.94 2.06-2.06.94z\"/><path d=\"M17.41 7.96l-1.37-1.37c-.4-.4-.92-.59-1.43-.59-.52 0-1.04.2-1.43.59L10.3 9.45l-7.72 7.72c-.78.78-.78 2.05 0 2.83L4 21.41c.39.39.9.59 1.41.59.51 0 1.02-.2 1.41-.59l7.78-7.78 2.81-2.81c.8-.78.8-2.07 0-2.86zM5.41 20L4 18.59l7.72-7.72 1.47 1.35L5.41 20z\"/>\n",
              "  </svg>\n",
              "      </button>\n",
              "      \n",
              "  <style>\n",
              "    .colab-df-container {\n",
              "      display:flex;\n",
              "      flex-wrap:wrap;\n",
              "      gap: 12px;\n",
              "    }\n",
              "\n",
              "    .colab-df-convert {\n",
              "      background-color: #E8F0FE;\n",
              "      border: none;\n",
              "      border-radius: 50%;\n",
              "      cursor: pointer;\n",
              "      display: none;\n",
              "      fill: #1967D2;\n",
              "      height: 32px;\n",
              "      padding: 0 0 0 0;\n",
              "      width: 32px;\n",
              "    }\n",
              "\n",
              "    .colab-df-convert:hover {\n",
              "      background-color: #E2EBFA;\n",
              "      box-shadow: 0px 1px 2px rgba(60, 64, 67, 0.3), 0px 1px 3px 1px rgba(60, 64, 67, 0.15);\n",
              "      fill: #174EA6;\n",
              "    }\n",
              "\n",
              "    [theme=dark] .colab-df-convert {\n",
              "      background-color: #3B4455;\n",
              "      fill: #D2E3FC;\n",
              "    }\n",
              "\n",
              "    [theme=dark] .colab-df-convert:hover {\n",
              "      background-color: #434B5C;\n",
              "      box-shadow: 0px 1px 3px 1px rgba(0, 0, 0, 0.15);\n",
              "      filter: drop-shadow(0px 1px 2px rgba(0, 0, 0, 0.3));\n",
              "      fill: #FFFFFF;\n",
              "    }\n",
              "  </style>\n",
              "\n",
              "      <script>\n",
              "        const buttonEl =\n",
              "          document.querySelector('#df-d69ad1d0-b980-4eda-8c4e-41aaeac4f925 button.colab-df-convert');\n",
              "        buttonEl.style.display =\n",
              "          google.colab.kernel.accessAllowed ? 'block' : 'none';\n",
              "\n",
              "        async function convertToInteractive(key) {\n",
              "          const element = document.querySelector('#df-d69ad1d0-b980-4eda-8c4e-41aaeac4f925');\n",
              "          const dataTable =\n",
              "            await google.colab.kernel.invokeFunction('convertToInteractive',\n",
              "                                                     [key], {});\n",
              "          if (!dataTable) return;\n",
              "\n",
              "          const docLinkHtml = 'Like what you see? Visit the ' +\n",
              "            '<a target=\"_blank\" href=https://colab.research.google.com/notebooks/data_table.ipynb>data table notebook</a>'\n",
              "            + ' to learn more about interactive tables.';\n",
              "          element.innerHTML = '';\n",
              "          dataTable['output_type'] = 'display_data';\n",
              "          await google.colab.output.renderOutput(dataTable, element);\n",
              "          const docLink = document.createElement('div');\n",
              "          docLink.innerHTML = docLinkHtml;\n",
              "          element.appendChild(docLink);\n",
              "        }\n",
              "      </script>\n",
              "    </div>\n",
              "  </div>\n",
              "  "
            ]
          },
          "metadata": {},
          "execution_count": 40
        }
      ]
    },
    {
      "cell_type": "code",
      "source": [
        "# Convert columns to 2 dec places\n",
        "pandas_df['Open'] = pandas_df['Open'].apply(format_number)\n",
        "pandas_df['High'] = pandas_df['High'].apply(format_number)\n",
        "pandas_df['Close'] = pandas_df['Close'].apply(format_number)\n",
        "pandas_df['Adj Close'] = pandas_df['Adj Close'].apply(format_number)\n",
        "pandas_df['Low'] = pandas_df['Low'].apply(format_number)\n",
        "pandas_df.head()"
      ],
      "metadata": {
        "colab": {
          "base_uri": "https://localhost:8080/",
          "height": 206
        },
        "id": "UPoE83IDauH_",
        "outputId": "ebdc89ca-3c21-414b-9f8d-3cf72cb5b0f8"
      },
      "execution_count": 67,
      "outputs": [
        {
          "output_type": "execute_result",
          "data": {
            "text/plain": [
              "         Date   Open   High    Low  Close    Volume Adj Close\n",
              "0  2012-01-03  59.97  61.06  59.87  60.33  12668800     52.62\n",
              "1  2012-01-04  60.21  60.35  59.47  59.71   9593300     52.08\n",
              "2  2012-01-05  59.35  59.62  58.37  59.42  12768200     51.83\n",
              "3  2012-01-06  59.42  59.45  58.87  59.00   8069400     51.46\n",
              "4  2012-01-09  59.03  59.55  58.92  59.18   6679300     51.62"
            ],
            "text/html": [
              "\n",
              "  <div id=\"df-fb36c6de-3d86-459f-9e35-e7b6d52e80a8\">\n",
              "    <div class=\"colab-df-container\">\n",
              "      <div>\n",
              "<style scoped>\n",
              "    .dataframe tbody tr th:only-of-type {\n",
              "        vertical-align: middle;\n",
              "    }\n",
              "\n",
              "    .dataframe tbody tr th {\n",
              "        vertical-align: top;\n",
              "    }\n",
              "\n",
              "    .dataframe thead th {\n",
              "        text-align: right;\n",
              "    }\n",
              "</style>\n",
              "<table border=\"1\" class=\"dataframe\">\n",
              "  <thead>\n",
              "    <tr style=\"text-align: right;\">\n",
              "      <th></th>\n",
              "      <th>Date</th>\n",
              "      <th>Open</th>\n",
              "      <th>High</th>\n",
              "      <th>Low</th>\n",
              "      <th>Close</th>\n",
              "      <th>Volume</th>\n",
              "      <th>Adj Close</th>\n",
              "    </tr>\n",
              "  </thead>\n",
              "  <tbody>\n",
              "    <tr>\n",
              "      <th>0</th>\n",
              "      <td>2012-01-03</td>\n",
              "      <td>59.97</td>\n",
              "      <td>61.06</td>\n",
              "      <td>59.87</td>\n",
              "      <td>60.33</td>\n",
              "      <td>12668800</td>\n",
              "      <td>52.62</td>\n",
              "    </tr>\n",
              "    <tr>\n",
              "      <th>1</th>\n",
              "      <td>2012-01-04</td>\n",
              "      <td>60.21</td>\n",
              "      <td>60.35</td>\n",
              "      <td>59.47</td>\n",
              "      <td>59.71</td>\n",
              "      <td>9593300</td>\n",
              "      <td>52.08</td>\n",
              "    </tr>\n",
              "    <tr>\n",
              "      <th>2</th>\n",
              "      <td>2012-01-05</td>\n",
              "      <td>59.35</td>\n",
              "      <td>59.62</td>\n",
              "      <td>58.37</td>\n",
              "      <td>59.42</td>\n",
              "      <td>12768200</td>\n",
              "      <td>51.83</td>\n",
              "    </tr>\n",
              "    <tr>\n",
              "      <th>3</th>\n",
              "      <td>2012-01-06</td>\n",
              "      <td>59.42</td>\n",
              "      <td>59.45</td>\n",
              "      <td>58.87</td>\n",
              "      <td>59.00</td>\n",
              "      <td>8069400</td>\n",
              "      <td>51.46</td>\n",
              "    </tr>\n",
              "    <tr>\n",
              "      <th>4</th>\n",
              "      <td>2012-01-09</td>\n",
              "      <td>59.03</td>\n",
              "      <td>59.55</td>\n",
              "      <td>58.92</td>\n",
              "      <td>59.18</td>\n",
              "      <td>6679300</td>\n",
              "      <td>51.62</td>\n",
              "    </tr>\n",
              "  </tbody>\n",
              "</table>\n",
              "</div>\n",
              "      <button class=\"colab-df-convert\" onclick=\"convertToInteractive('df-fb36c6de-3d86-459f-9e35-e7b6d52e80a8')\"\n",
              "              title=\"Convert this dataframe to an interactive table.\"\n",
              "              style=\"display:none;\">\n",
              "        \n",
              "  <svg xmlns=\"http://www.w3.org/2000/svg\" height=\"24px\"viewBox=\"0 0 24 24\"\n",
              "       width=\"24px\">\n",
              "    <path d=\"M0 0h24v24H0V0z\" fill=\"none\"/>\n",
              "    <path d=\"M18.56 5.44l.94 2.06.94-2.06 2.06-.94-2.06-.94-.94-2.06-.94 2.06-2.06.94zm-11 1L8.5 8.5l.94-2.06 2.06-.94-2.06-.94L8.5 2.5l-.94 2.06-2.06.94zm10 10l.94 2.06.94-2.06 2.06-.94-2.06-.94-.94-2.06-.94 2.06-2.06.94z\"/><path d=\"M17.41 7.96l-1.37-1.37c-.4-.4-.92-.59-1.43-.59-.52 0-1.04.2-1.43.59L10.3 9.45l-7.72 7.72c-.78.78-.78 2.05 0 2.83L4 21.41c.39.39.9.59 1.41.59.51 0 1.02-.2 1.41-.59l7.78-7.78 2.81-2.81c.8-.78.8-2.07 0-2.86zM5.41 20L4 18.59l7.72-7.72 1.47 1.35L5.41 20z\"/>\n",
              "  </svg>\n",
              "      </button>\n",
              "      \n",
              "  <style>\n",
              "    .colab-df-container {\n",
              "      display:flex;\n",
              "      flex-wrap:wrap;\n",
              "      gap: 12px;\n",
              "    }\n",
              "\n",
              "    .colab-df-convert {\n",
              "      background-color: #E8F0FE;\n",
              "      border: none;\n",
              "      border-radius: 50%;\n",
              "      cursor: pointer;\n",
              "      display: none;\n",
              "      fill: #1967D2;\n",
              "      height: 32px;\n",
              "      padding: 0 0 0 0;\n",
              "      width: 32px;\n",
              "    }\n",
              "\n",
              "    .colab-df-convert:hover {\n",
              "      background-color: #E2EBFA;\n",
              "      box-shadow: 0px 1px 2px rgba(60, 64, 67, 0.3), 0px 1px 3px 1px rgba(60, 64, 67, 0.15);\n",
              "      fill: #174EA6;\n",
              "    }\n",
              "\n",
              "    [theme=dark] .colab-df-convert {\n",
              "      background-color: #3B4455;\n",
              "      fill: #D2E3FC;\n",
              "    }\n",
              "\n",
              "    [theme=dark] .colab-df-convert:hover {\n",
              "      background-color: #434B5C;\n",
              "      box-shadow: 0px 1px 3px 1px rgba(0, 0, 0, 0.15);\n",
              "      filter: drop-shadow(0px 1px 2px rgba(0, 0, 0, 0.3));\n",
              "      fill: #FFFFFF;\n",
              "    }\n",
              "  </style>\n",
              "\n",
              "      <script>\n",
              "        const buttonEl =\n",
              "          document.querySelector('#df-fb36c6de-3d86-459f-9e35-e7b6d52e80a8 button.colab-df-convert');\n",
              "        buttonEl.style.display =\n",
              "          google.colab.kernel.accessAllowed ? 'block' : 'none';\n",
              "\n",
              "        async function convertToInteractive(key) {\n",
              "          const element = document.querySelector('#df-fb36c6de-3d86-459f-9e35-e7b6d52e80a8');\n",
              "          const dataTable =\n",
              "            await google.colab.kernel.invokeFunction('convertToInteractive',\n",
              "                                                     [key], {});\n",
              "          if (!dataTable) return;\n",
              "\n",
              "          const docLinkHtml = 'Like what you see? Visit the ' +\n",
              "            '<a target=\"_blank\" href=https://colab.research.google.com/notebooks/data_table.ipynb>data table notebook</a>'\n",
              "            + ' to learn more about interactive tables.';\n",
              "          element.innerHTML = '';\n",
              "          dataTable['output_type'] = 'display_data';\n",
              "          await google.colab.output.renderOutput(dataTable, element);\n",
              "          const docLink = document.createElement('div');\n",
              "          docLink.innerHTML = docLinkHtml;\n",
              "          element.appendChild(docLink);\n",
              "        }\n",
              "      </script>\n",
              "    </div>\n",
              "  </div>\n",
              "  "
            ]
          },
          "metadata": {},
          "execution_count": 67
        }
      ]
    },
    {
      "cell_type": "code",
      "source": [
        "# Convert back to spark dataframe\n",
        "spark_df = spark.createDataFrame(pandas_df)\n",
        "spark_df.describe()"
      ],
      "metadata": {
        "colab": {
          "base_uri": "https://localhost:8080/"
        },
        "id": "e-g62QaScgpg",
        "outputId": "dc7edaea-dab9-4239-daef-92b80370aeb6"
      },
      "execution_count": 68,
      "outputs": [
        {
          "output_type": "execute_result",
          "data": {
            "text/plain": [
              "DataFrame[summary: string, Date: string, Open: string, High: string, Low: string, Close: string, Volume: string, Adj Close: string]"
            ]
          },
          "metadata": {},
          "execution_count": 68
        }
      ]
    },
    {
      "cell_type": "code",
      "source": [
        "'''\n",
        "Create a new data frame with a column called HV Ratio that is the ratio of the\n",
        "High Price versus volume of stock traded for a day\n",
        "'''\n",
        "\n",
        "# Custom function\n",
        "def hv_ratio(high, vol):\n",
        "  return float(int(float(high)) / int(vol))\n",
        "\n",
        "# UDF Method\n",
        "udf_hv_ratio = udf(lambda x,y:hv_ratio(x,y), FloatType())\n",
        "new_df = spark_df.withColumn(\"hv_ratio\",udf_hv_ratio(col(\"High\"), col('Volume')))\n",
        "new_df.show()"
      ],
      "metadata": {
        "colab": {
          "base_uri": "https://localhost:8080/"
        },
        "id": "CAcwWxT7c4X5",
        "outputId": "7d1c81e4-b57b-4655-de02-f6b87d800e83"
      },
      "execution_count": 78,
      "outputs": [
        {
          "output_type": "stream",
          "name": "stdout",
          "text": [
            "+----------+-----+-----+-----+-----+--------+---------+------------+\n",
            "|      Date| Open| High|  Low|Close|  Volume|Adj Close|    hv_ratio|\n",
            "+----------+-----+-----+-----+-----+--------+---------+------------+\n",
            "|2012-01-03|59.97|61.06|59.87|60.33|12668800|    52.62|4.8149786E-6|\n",
            "|2012-01-04|60.21|60.35|59.47|59.71| 9593300|    52.08| 6.254365E-6|\n",
            "|2012-01-05|59.35|59.62|58.37|59.42|12768200|    51.83|4.6208547E-6|\n",
            "|2012-01-06|59.42|59.45|58.87|59.00| 8069400|    51.46| 7.311572E-6|\n",
            "|2012-01-09|59.03|59.55|58.92|59.18| 6679300|    51.62| 8.833261E-6|\n",
            "|2012-01-10|59.43|59.71|58.98|59.04| 6907300|    51.49| 8.541688E-6|\n",
            "|2012-01-11|59.06|59.53|59.04|59.40| 6365600|    51.81| 9.268569E-6|\n",
            "|2012-01-12|59.79|60.00|59.40|59.50| 7236400|    51.90| 8.291416E-6|\n",
            "|2012-01-13|59.18|59.61|59.01|59.54| 7729300|    51.93| 7.633292E-6|\n",
            "|2012-01-17|59.87|60.11|59.52|59.85| 8500000|    52.20|7.0588235E-6|\n",
            "|2012-01-18|59.79|60.03|59.65|60.01| 5911400|    52.34| 1.014988E-5|\n",
            "|2012-01-19|59.93|60.73|59.75|60.61| 9234600|    52.86|6.4973037E-6|\n",
            "|2012-01-20|60.75|61.25|60.67|61.01|10378800|    53.21|5.8773653E-6|\n",
            "|2012-01-23|60.81|60.98|60.51|60.91| 7134100|    53.13| 8.410311E-6|\n",
            "|2012-01-24|60.75|62.00|60.75|61.39| 7362800|    53.54|8.4207095E-6|\n",
            "|2012-01-25|61.18|61.61|61.04|61.47| 5915800|    53.61| 1.031137E-5|\n",
            "|2012-01-26|61.80|61.84|60.77|60.97| 7436200|    53.18| 8.203115E-6|\n",
            "|2012-01-27|60.86|61.12|60.54|60.71| 6287300|    52.95|9.7020975E-6|\n",
            "|2012-01-30|60.47|61.32|60.35|61.30| 7636900|    53.47| 7.987534E-6|\n",
            "|2012-01-31|61.53|61.57|60.58|61.36| 9761500|    53.52|6.2490394E-6|\n",
            "+----------+-----+-----+-----+-----+--------+---------+------------+\n",
            "only showing top 20 rows\n",
            "\n"
          ]
        }
      ]
    },
    {
      "cell_type": "markdown",
      "source": [
        "# Data Analysis"
      ],
      "metadata": {
        "id": "ELDRIu6Mjk1W"
      }
    },
    {
      "cell_type": "code",
      "source": [
        "# What day had the Peak High in Price?\n",
        "spark_df = spark_df.sort(\"High\")\n",
        "spark_df.tail(1)"
      ],
      "metadata": {
        "colab": {
          "base_uri": "https://localhost:8080/"
        },
        "id": "26aCLBYtj_wk",
        "outputId": "8afb61d0-6601-4a38-a18b-7da174390d7a"
      },
      "execution_count": 109,
      "outputs": [
        {
          "output_type": "execute_result",
          "data": {
            "text/plain": [
              "[Row(Date='2015-01-13', Open='90.80', High='90.97', Low='88.93', Close='89.31', Volume='8215400', Adj Close='83.83')]"
            ]
          },
          "metadata": {},
          "execution_count": 109
        }
      ]
    },
    {
      "cell_type": "code",
      "source": [
        "# What is the mean of the Close column?\n",
        "from pyspark.sql.functions import mean as _mean\n",
        "df_stats = spark_df.select(\n",
        "    _mean(col('Close')).alias('mean')\n",
        ").collect()\n",
        "\n",
        "mean = df_stats[0]['mean']\n",
        "mean"
      ],
      "metadata": {
        "colab": {
          "base_uri": "https://localhost:8080/"
        },
        "id": "S56xXP1Nkp-C",
        "outputId": "c62c968c-f0cb-4b95-c639-d50fe258d48f"
      },
      "execution_count": 84,
      "outputs": [
        {
          "output_type": "execute_result",
          "data": {
            "text/plain": [
              "72.38844992050878"
            ]
          },
          "metadata": {},
          "execution_count": 84
        }
      ]
    },
    {
      "cell_type": "code",
      "source": [
        "spark_df.withColumn(\"Volume\",col(\"Volume\").cast(IntegerType())).printSchema()\n",
        "spark_df.head()"
      ],
      "metadata": {
        "colab": {
          "base_uri": "https://localhost:8080/"
        },
        "id": "M1R6Eqh2meXQ",
        "outputId": "d6f05a03-b719-4045-987d-d7bc043014e5"
      },
      "execution_count": 95,
      "outputs": [
        {
          "output_type": "stream",
          "name": "stdout",
          "text": [
            "root\n",
            " |-- Date: string (nullable = true)\n",
            " |-- Open: string (nullable = true)\n",
            " |-- High: string (nullable = true)\n",
            " |-- Low: string (nullable = true)\n",
            " |-- Close: string (nullable = true)\n",
            " |-- Volume: integer (nullable = true)\n",
            " |-- Adj Close: string (nullable = true)\n",
            "\n"
          ]
        },
        {
          "output_type": "execute_result",
          "data": {
            "text/plain": [
              "Row(Date='2012-01-03', Open='59.97', High='61.06', Low='59.87', Close='60.33', Volume='12668800', Adj Close='52.62')"
            ]
          },
          "metadata": {},
          "execution_count": 95
        }
      ]
    },
    {
      "cell_type": "code",
      "source": [
        "# What is the max and min of the Volume column? Min\n",
        "sorted_df = spark_df.sort(\"Volume\")\n",
        "sorted_df.head(2)"
      ],
      "metadata": {
        "colab": {
          "base_uri": "https://localhost:8080/"
        },
        "id": "5zsID2HjljfA",
        "outputId": "fd199edc-aefe-4f32-f96a-6b70ec3f9dfa"
      },
      "execution_count": 112,
      "outputs": [
        {
          "output_type": "execute_result",
          "data": {
            "text/plain": [
              "[Row(Date='2016-03-04', Open='66.14', High='67.28', Low='66.09', Close='66.78', Volume='10010500', Adj Close='64.42'),\n",
              " Row(Date='2013-05-14', Open='77.98', High='78.86', Low='77.67', Close='78.78', Volume='10013700', Adj Close='71.28')]"
            ]
          },
          "metadata": {},
          "execution_count": 112
        }
      ]
    },
    {
      "cell_type": "code",
      "source": [
        "# What is the max and min of the Volume column? Max\n",
        "sorted_df = spark_df.sort(\"Volume\")\n",
        "sorted_df.tail(2)"
      ],
      "metadata": {
        "colab": {
          "base_uri": "https://localhost:8080/"
        },
        "id": "ujKssRjgpja0",
        "outputId": "bf7c12f9-6daa-42ae-91a4-4e0a31f5bd87"
      },
      "execution_count": 113,
      "outputs": [
        {
          "output_type": "execute_result",
          "data": {
            "text/plain": [
              "[Row(Date='2016-08-12', Open='73.80', High='74.12', Low='73.56', Close='73.89', Volume='9994200', Adj Close='72.83'),\n",
              " Row(Date='2012-06-14', Open='67.10', High='67.79', Low='67.09', Close='67.63', Volume='9994400', Adj Close='59.78')]"
            ]
          },
          "metadata": {},
          "execution_count": 113
        }
      ]
    },
    {
      "cell_type": "code",
      "source": [
        "# How many days was the Close lower than 60 dollars?\n",
        "from pyspark.sql.functions import col,sum,when\n",
        "\n",
        "cnt_cond = lambda cond: sum(when(cond, 1).otherwise(0))\n",
        "list_data = sorted_df.agg(\n",
        "    cnt_cond(col('Close') < 60).alias('count')\n",
        ")\n",
        "\n",
        "sum = 0\n",
        "list_data.show()"
      ],
      "metadata": {
        "colab": {
          "base_uri": "https://localhost:8080/"
        },
        "id": "S0QT5wq7qBpE",
        "outputId": "cc43ba12-c344-4b52-f226-d26dbb42abda"
      },
      "execution_count": 130,
      "outputs": [
        {
          "output_type": "stream",
          "name": "stdout",
          "text": [
            "+-----+\n",
            "|count|\n",
            "+-----+\n",
            "|   81|\n",
            "+-----+\n",
            "\n"
          ]
        }
      ]
    },
    {
      "cell_type": "code",
      "source": [],
      "metadata": {
        "id": "lzFidPdbsdHa"
      },
      "execution_count": null,
      "outputs": []
    }
  ]
}