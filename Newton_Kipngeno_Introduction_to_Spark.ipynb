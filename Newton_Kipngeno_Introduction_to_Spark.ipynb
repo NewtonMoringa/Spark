{
  "nbformat": 4,
  "nbformat_minor": 0,
  "metadata": {
    "colab": {
      "provenance": []
    },
    "kernelspec": {
      "name": "python3",
      "display_name": "Python 3"
    },
    "language_info": {
      "name": "python"
    }
  },
  "cells": [
    {
      "cell_type": "markdown",
      "source": [
        "Data Importation and exploration"
      ],
      "metadata": {
        "id": "_wPMoqtLhbNA"
      }
    },
    {
      "cell_type": "code",
      "execution_count": 1,
      "metadata": {
        "colab": {
          "base_uri": "https://localhost:8080/"
        },
        "id": "3dGJdtrUhV_0",
        "outputId": "74123713-174c-4e9d-d1c8-55216a359e58"
      },
      "outputs": [
        {
          "output_type": "stream",
          "name": "stdout",
          "text": [
            "Looking in indexes: https://pypi.org/simple, https://us-python.pkg.dev/colab-wheels/public/simple/\n",
            "Collecting pyspark\n",
            "  Downloading pyspark-3.3.1.tar.gz (281.4 MB)\n",
            "\u001b[2K     \u001b[90m━━━━━━━━━━━━━━━━━━━━━━━━━━━━━━━━━━━━━━━\u001b[0m \u001b[32m281.4/281.4 MB\u001b[0m \u001b[31m4.1 MB/s\u001b[0m eta \u001b[36m0:00:00\u001b[0m\n",
            "\u001b[?25h  Preparing metadata (setup.py) ... \u001b[?25l\u001b[?25hdone\n",
            "Collecting py4j==0.10.9.5\n",
            "  Downloading py4j-0.10.9.5-py2.py3-none-any.whl (199 kB)\n",
            "\u001b[2K     \u001b[90m━━━━━━━━━━━━━━━━━━━━━━━━━━━━━━━━━━━━━━\u001b[0m \u001b[32m199.7/199.7 KB\u001b[0m \u001b[31m16.9 MB/s\u001b[0m eta \u001b[36m0:00:00\u001b[0m\n",
            "\u001b[?25hBuilding wheels for collected packages: pyspark\n",
            "  Building wheel for pyspark (setup.py) ... \u001b[?25l\u001b[?25hdone\n",
            "  Created wheel for pyspark: filename=pyspark-3.3.1-py2.py3-none-any.whl size=281845512 sha256=ac1c1942f0e33d9871e0291f7aa1cddf192adaee2d150756be7f89aa62bb1bd6\n",
            "  Stored in directory: /root/.cache/pip/wheels/43/dc/11/ec201cd671da62fa9c5cc77078235e40722170ceba231d7598\n",
            "Successfully built pyspark\n",
            "Installing collected packages: py4j, pyspark\n",
            "Successfully installed py4j-0.10.9.5 pyspark-3.3.1\n"
          ]
        }
      ],
      "source": [
        "# Install pyspark\n",
        "# ---\n",
        "#\n",
        "!pip install pyspark"
      ]
    },
    {
      "cell_type": "code",
      "source": [
        "# run local pyspark session\n",
        "#\n",
        "from pyspark.sql import SparkSession, SQLContext\n",
        "import pandas as pd\n",
        "spark = SparkSession.builder.master(\"local[*]\").getOrCreate()\n",
        "sc = spark.sparkContext\n",
        "sqlCtx = SQLContext(sc)"
      ],
      "metadata": {
        "colab": {
          "base_uri": "https://localhost:8080/"
        },
        "id": "jeB46roshv23",
        "outputId": "2535f615-b151-4b8b-d37d-5542c2968919"
      },
      "execution_count": 2,
      "outputs": [
        {
          "output_type": "stream",
          "name": "stderr",
          "text": [
            "/usr/local/lib/python3.8/dist-packages/pyspark/sql/context.py:112: FutureWarning: Deprecated in 3.0.0. Use SparkSession.builder.getOrCreate() instead.\n",
            "  warnings.warn(\n"
          ]
        }
      ]
    },
    {
      "cell_type": "code",
      "source": [
        "# Load data\n",
        "# raw_data = sc.textFile(\"saf_stock.csv\")\n",
        "# clean_data = raw_data.map(lambda line: line.split('\\t'))\n",
        "# clean_data.take(5)\n",
        "df = sqlCtx.read.csv(\"saf_stock.csv\")\n",
        "df.first()"
      ],
      "metadata": {
        "colab": {
          "base_uri": "https://localhost:8080/"
        },
        "id": "s4TOrSFgiMdo",
        "outputId": "1538e486-375b-4e85-e11a-bc2407833f5e"
      },
      "execution_count": 4,
      "outputs": [
        {
          "output_type": "execute_result",
          "data": {
            "text/plain": [
              "Row(_c0='Date', _c1='Open', _c2='High', _c3='Low', _c4='Close', _c5='Volume', _c6='Adj Close')"
            ]
          },
          "metadata": {},
          "execution_count": 4
        }
      ]
    },
    {
      "cell_type": "code",
      "source": [
        "headers = df.first()\n",
        "headers"
      ],
      "metadata": {
        "colab": {
          "base_uri": "https://localhost:8080/"
        },
        "id": "U294Lh7sjbbU",
        "outputId": "a8875ec3-b2a6-48d1-b24f-e010b88a1d53"
      },
      "execution_count": 6,
      "outputs": [
        {
          "output_type": "execute_result",
          "data": {
            "text/plain": [
              "Row(_c0='Date', _c1='Open', _c2='High', _c3='Low', _c4='Close', _c5='Volume', _c6='Adj Close')"
            ]
          },
          "metadata": {},
          "execution_count": 6
        }
      ]
    },
    {
      "cell_type": "code",
      "source": [
        "df.printSchema()"
      ],
      "metadata": {
        "colab": {
          "base_uri": "https://localhost:8080/"
        },
        "id": "FCjsTvtNjq02",
        "outputId": "2db710ea-019f-40db-bc1e-29058620ce7a"
      },
      "execution_count": 7,
      "outputs": [
        {
          "output_type": "stream",
          "name": "stdout",
          "text": [
            "root\n",
            " |-- _c0: string (nullable = true)\n",
            " |-- _c1: string (nullable = true)\n",
            " |-- _c2: string (nullable = true)\n",
            " |-- _c3: string (nullable = true)\n",
            " |-- _c4: string (nullable = true)\n",
            " |-- _c5: string (nullable = true)\n",
            " |-- _c6: string (nullable = true)\n",
            "\n"
          ]
        }
      ]
    },
    {
      "cell_type": "code",
      "source": [
        "# Collect Data\n",
        "data = clean_data.collect()\n",
        "dates = []\n",
        "opens = []\n",
        "highs = []\n",
        "lows = []\n",
        "closes  = []\n",
        "volumes = []\n",
        "adj_closes = []\n",
        "\n",
        "def format_record(record):\n",
        "  string = str(record)\n",
        "  str_len = len(string)\n",
        "  arr = string[1:str_len-1].split(',')\n",
        "  # print(arr)\n",
        "  return arr\n",
        "# data[1:].map(lambda line: format_record(line))\n",
        "\n",
        "# data_arr\n",
        "\n",
        "\n",
        "for da in data[1:]:\n",
        "  dates.append(format_record(da)[0][1:])\n",
        "  opens.append(format_record(da)[1])\n",
        "  highs.append(format_record(da)[2])\n",
        "  lows.append(format_record(da)[3])\n",
        "  closes.append(format_record(da)[4])\n",
        "  volumes.append(format_record(da)[5])\n",
        "  adj_closes.append(format_record(da)[6])\n",
        "print(len(dates))\n",
        "# dates"
      ],
      "metadata": {
        "colab": {
          "base_uri": "https://localhost:8080/"
        },
        "id": "Nb6Kt-oazKXI",
        "outputId": "dbbb12a3-4036-4809-e7e4-235ddf99fb1d"
      },
      "execution_count": 41,
      "outputs": [
        {
          "output_type": "stream",
          "name": "stdout",
          "text": [
            "1258\n"
          ]
        }
      ]
    },
    {
      "cell_type": "code",
      "source": [
        "# Create Dataframe\n",
        "# df = pd.DataFrame({\"title\": titles, \"links\": links})\n",
        "# df.head()"
      ],
      "metadata": {
        "id": "dFJ36CjK7rNz"
      },
      "execution_count": null,
      "outputs": []
    }
  ]
}